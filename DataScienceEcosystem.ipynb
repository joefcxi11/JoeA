{
 "cells": [
  {
   "cell_type": "markdown",
   "id": "70d24b93-6ddc-496f-8441-392252379a3b",
   "metadata": {},
   "source": [
    "# Data Science Tools and Ecosystem\n",
    "In this notebook, Data Science Tools and Ecosystems are summarized."
   ]
  },
  {
   "cell_type": "markdown",
   "id": "ded93177-0341-46c4-9fb4-14f5c09d5a67",
   "metadata": {},
   "source": [
    "**Objectives**\n",
    "-Popular Languages that Data Scientists use\n",
    "-Commonly used libraries by Data Scientists\n",
    "-Data Science Tools\n",
    "-Arithmetic Expressions in Python"
   ]
  },
  {
   "cell_type": "markdown",
   "id": "9e4b103f-a7a5-441a-80e0-55f4d7afc051",
   "metadata": {},
   "source": [
    "#### **Some of the popular languages that Data Scientists use are**:\n",
    "1. Python\n",
    "2. R Language \n",
    "3. SQL \n",
    "4. Scala \n",
    "5. Java\n",
    "6. C++\n",
    "7. Julia"
   ]
  },
  {
   "cell_type": "markdown",
   "id": "c9a6b798-2f9e-498d-8ec6-4f8744c37343",
   "metadata": {},
   "source": [
    "#### **Some commonly used libraries by Data Scientist are**:\n",
    "1. Pandas\n",
    "2. NumPy\n",
    "3. SciPy\n",
    "4. Matplotlib\n",
    "5. Seaborn\n",
    "6. Apache Spark\n",
    "7. Pytorch"
   ]
  },
  {
   "cell_type": "markdown",
   "id": "231149db-7568-4832-bd76-bec50d1bf2b7",
   "metadata": {},
   "source": [
    "| Data Science Tools |\n",
    " --------------------\n",
    "| JupyterLab |\n",
    "| VS Code |\n",
    "| R Studio |"
   ]
  },
  {
   "cell_type": "markdown",
   "id": "612cbb9c-fdcd-4fb8-a9d9-016e8c69484f",
   "metadata": {},
   "source": [
    "### Below are a few examples of evaluating arithmetic expressions in Python:"
   ]
  },
  {
   "cell_type": "markdown",
   "id": "7b8d7fce-37aa-41dc-8d2e-bc691e13015c",
   "metadata": {},
   "source": [
    "This a simple arithmetic expression to mutiply then add integers"
   ]
  },
  {
   "cell_type": "code",
   "execution_count": 3,
   "id": "5241395b-06a2-4f4a-87f5-8e53b678e03d",
   "metadata": {
    "tags": []
   },
   "outputs": [
    {
     "data": {
      "text/plain": [
       "17"
      ]
     },
     "execution_count": 3,
     "metadata": {},
     "output_type": "execute_result"
    }
   ],
   "source": [
    "(3*4)+5"
   ]
  },
  {
   "cell_type": "markdown",
   "id": "7420051b-4d48-4677-bf47-e9e7c6f619b4",
   "metadata": {
    "tags": []
   },
   "source": [
    "This will convert 200 minutes to hours by diving by 60"
   ]
  },
  {
   "cell_type": "code",
   "execution_count": 9,
   "id": "0fab3417-d5d8-497c-a27b-18030daac7cb",
   "metadata": {
    "tags": []
   },
   "outputs": [
    {
     "data": {
      "text/plain": [
       "3.3333333333333335"
      ]
     },
     "execution_count": 9,
     "metadata": {},
     "output_type": "execute_result"
    }
   ],
   "source": [
    "200/60"
   ]
  },
  {
   "cell_type": "markdown",
   "id": "245761d2-2403-4663-ba82-007d97d74d1a",
   "metadata": {},
   "source": [
    "## Author\n",
    "Joe A."
   ]
  }
 ],
 "metadata": {
  "kernelspec": {
   "display_name": "Python",
   "language": "python",
   "name": "conda-env-python-py"
  },
  "language_info": {
   "codemirror_mode": {
    "name": "ipython",
    "version": 3
   },
   "file_extension": ".py",
   "mimetype": "text/x-python",
   "name": "python",
   "nbconvert_exporter": "python",
   "pygments_lexer": "ipython3",
   "version": "3.7.12"
  }
 },
 "nbformat": 4,
 "nbformat_minor": 5
}
